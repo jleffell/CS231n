{
 "cells": [
  {
   "cell_type": "markdown",
   "metadata": {},
   "source": [
    "# Softmax exercise\n",
    "\n",
    "*Complete and hand in this completed worksheet (including its outputs and any supporting code outside of the worksheet) with your assignment submission. For more details see the [assignments page](http://vision.stanford.edu/teaching/cs231n/assignments.html) on the course website.*\n",
    "\n",
    "This exercise is analogous to the SVM exercise. You will:\n",
    "\n",
    "- implement a fully-vectorized **loss function** for the Softmax classifier\n",
    "- implement the fully-vectorized expression for its **analytic gradient**\n",
    "- **check your implementation** with numerical gradient\n",
    "- use a validation set to **tune the learning rate and regularization** strength\n",
    "- **optimize** the loss function with **SGD**\n",
    "- **visualize** the final learned weights\n"
   ]
  },
  {
   "cell_type": "code",
   "execution_count": 1,
   "metadata": {
    "collapsed": false
   },
   "outputs": [],
   "source": [
    "import random\n",
    "import numpy as np\n",
    "from cs231n.data_utils import load_CIFAR10\n",
    "import matplotlib.pyplot as plt\n",
    "\n",
    "from __future__ import print_function\n",
    "\n",
    "%matplotlib inline\n",
    "plt.rcParams['figure.figsize'] = (10.0, 8.0) # set default size of plots\n",
    "plt.rcParams['image.interpolation'] = 'nearest'\n",
    "plt.rcParams['image.cmap'] = 'gray'\n",
    "\n",
    "# for auto-reloading extenrnal modules\n",
    "# see http://stackoverflow.com/questions/1907993/autoreload-of-modules-in-ipython\n",
    "%load_ext autoreload\n",
    "%autoreload 2"
   ]
  },
  {
   "cell_type": "code",
   "execution_count": 2,
   "metadata": {
    "collapsed": false
   },
   "outputs": [
    {
     "name": "stdout",
     "output_type": "stream",
     "text": [
      "Train data shape:  (49000, 3073)\n",
      "Train labels shape:  (49000,)\n",
      "Validation data shape:  (1000, 3073)\n",
      "Validation labels shape:  (1000,)\n",
      "Test data shape:  (1000, 3073)\n",
      "Test labels shape:  (1000,)\n",
      "dev data shape:  (500, 3073)\n",
      "dev labels shape:  (500,)\n"
     ]
    }
   ],
   "source": [
    "def get_CIFAR10_data(num_training=49000, num_validation=1000, num_test=1000, num_dev=500):\n",
    "    \"\"\"\n",
    "    Load the CIFAR-10 dataset from disk and perform preprocessing to prepare\n",
    "    it for the linear classifier. These are the same steps as we used for the\n",
    "    SVM, but condensed to a single function.  \n",
    "    \"\"\"\n",
    "    # Load the raw CIFAR-10 data\n",
    "    cifar10_dir = 'cs231n/datasets/cifar-10-batches-py'\n",
    "    X_train, y_train, X_test, y_test = load_CIFAR10(cifar10_dir)\n",
    "    \n",
    "    # subsample the data\n",
    "    mask = list(range(num_training, num_training + num_validation))\n",
    "    X_val = X_train[mask]\n",
    "    y_val = y_train[mask]\n",
    "    mask = list(range(num_training))\n",
    "    X_train = X_train[mask]\n",
    "    y_train = y_train[mask]\n",
    "    mask = list(range(num_test))\n",
    "    X_test = X_test[mask]\n",
    "    y_test = y_test[mask]\n",
    "    mask = np.random.choice(num_training, num_dev, replace=False)\n",
    "    X_dev = X_train[mask]\n",
    "    y_dev = y_train[mask]\n",
    "    \n",
    "    # Preprocessing: reshape the image data into rows\n",
    "    X_train = np.reshape(X_train, (X_train.shape[0], -1))\n",
    "    X_val = np.reshape(X_val, (X_val.shape[0], -1))\n",
    "    X_test = np.reshape(X_test, (X_test.shape[0], -1))\n",
    "    X_dev = np.reshape(X_dev, (X_dev.shape[0], -1))\n",
    "    \n",
    "    # Normalize the data: subtract the mean image\n",
    "    mean_image = np.mean(X_train, axis = 0)\n",
    "    X_train -= mean_image\n",
    "    X_val -= mean_image\n",
    "    X_test -= mean_image\n",
    "    X_dev -= mean_image\n",
    "    \n",
    "    # add bias dimension and transform into columns\n",
    "    X_train = np.hstack([X_train, np.ones((X_train.shape[0], 1))])\n",
    "    X_val = np.hstack([X_val, np.ones((X_val.shape[0], 1))])\n",
    "    X_test = np.hstack([X_test, np.ones((X_test.shape[0], 1))])\n",
    "    X_dev = np.hstack([X_dev, np.ones((X_dev.shape[0], 1))])\n",
    "    \n",
    "    return X_train, y_train, X_val, y_val, X_test, y_test, X_dev, y_dev\n",
    "\n",
    "\n",
    "# Invoke the above function to get our data.\n",
    "X_train, y_train, X_val, y_val, X_test, y_test, X_dev, y_dev = get_CIFAR10_data()\n",
    "print('Train data shape: ', X_train.shape)\n",
    "print('Train labels shape: ', y_train.shape)\n",
    "print('Validation data shape: ', X_val.shape)\n",
    "print('Validation labels shape: ', y_val.shape)\n",
    "print('Test data shape: ', X_test.shape)\n",
    "print('Test labels shape: ', y_test.shape)\n",
    "print('dev data shape: ', X_dev.shape)\n",
    "print('dev labels shape: ', y_dev.shape)"
   ]
  },
  {
   "cell_type": "markdown",
   "metadata": {},
   "source": [
    "## Softmax Classifier\n",
    "\n",
    "Your code for this section will all be written inside **cs231n/classifiers/softmax.py**. \n"
   ]
  },
  {
   "cell_type": "code",
   "execution_count": 4,
   "metadata": {
    "collapsed": false
   },
   "outputs": [
    {
     "name": "stdout",
     "output_type": "stream",
     "text": [
      "loss: 2.316862\n",
      "sanity check: 2.302585\n"
     ]
    }
   ],
   "source": [
    "# First implement the naive softmax loss function with nested loops.\n",
    "# Open the file cs231n/classifiers/softmax.py and implement the\n",
    "# softmax_loss_naive function.\n",
    "\n",
    "from cs231n.classifiers.softmax import softmax_loss_naive\n",
    "import time\n",
    "\n",
    "# Generate a random softmax weight matrix and use it to compute the loss.\n",
    "W = np.random.randn(3073, 10) * 0.0001\n",
    "loss, grad = softmax_loss_naive(W, X_dev, y_dev, 0.0)\n",
    "\n",
    "# As a rough sanity check, our loss should be something close to -log(0.1).\n",
    "print('loss: %f' % loss)\n",
    "print('sanity check: %f' % (-np.log(0.1)))\n"
   ]
  },
  {
   "cell_type": "markdown",
   "metadata": {},
   "source": [
    "## Inline Question 1:\n",
    "Why do we expect our loss to be close to -log(0.1)? Explain briefly.**\n",
    "\n",
    "**Your answer:** *Because we expect the sum in the exponent to be approx. zero, therefore, the loss for each case is -log(1/N). We then multiplu by N cases and divide by N so we are left with -log(1/N) and N = 10 in this classification problem.*\n"
   ]
  },
  {
   "cell_type": "code",
   "execution_count": 5,
   "metadata": {
    "collapsed": false
   },
   "outputs": [
    {
     "name": "stdout",
     "output_type": "stream",
     "text": [
      "numerical: -4.803576 analytic: -4.803576, relative error: 4.118997e-09\n",
      "numerical: 0.616765 analytic: 0.616765, relative error: 5.981537e-08\n",
      "numerical: -1.836330 analytic: -1.836330, relative error: 1.481554e-08\n",
      "numerical: -2.211337 analytic: -2.211337, relative error: 1.400125e-08\n",
      "numerical: -0.956479 analytic: -0.956480, relative error: 3.020720e-08\n",
      "numerical: -2.451826 analytic: -2.451826, relative error: 2.749132e-08\n",
      "numerical: -0.596566 analytic: -0.596566, relative error: 3.186604e-08\n",
      "numerical: -1.197638 analytic: -1.197638, relative error: 3.640362e-08\n",
      "numerical: 1.747944 analytic: 1.747944, relative error: 5.112127e-08\n",
      "numerical: 1.856666 analytic: 1.856666, relative error: 4.561772e-08\n",
      "numerical: 2.096453 analytic: 2.096453, relative error: 1.000969e-08\n",
      "numerical: -0.467004 analytic: -0.467004, relative error: 1.077505e-07\n",
      "numerical: 0.596705 analytic: 0.596705, relative error: 8.871636e-08\n",
      "numerical: -2.793001 analytic: -2.793001, relative error: 9.636951e-09\n",
      "numerical: -5.028615 analytic: -5.028615, relative error: 1.253502e-08\n",
      "numerical: 1.935229 analytic: 1.935229, relative error: 2.644227e-08\n",
      "numerical: 1.539718 analytic: 1.539718, relative error: 6.623778e-08\n",
      "numerical: 1.249407 analytic: 1.249407, relative error: 1.324998e-08\n",
      "numerical: -1.931330 analytic: -1.931330, relative error: 7.338721e-09\n",
      "numerical: -0.223254 analytic: -0.223254, relative error: 3.362579e-07\n"
     ]
    }
   ],
   "source": [
    "# Complete the implementation of softmax_loss_naive and implement a (naive)\n",
    "# version of the gradient that uses nested loops.\n",
    "loss, grad = softmax_loss_naive(W, X_dev, y_dev, 0.0)\n",
    "\n",
    "# As we did for the SVM, use numeric gradient checking as a debugging tool.\n",
    "# The numeric gradient should be close to the analytic gradient.\n",
    "from cs231n.gradient_check import grad_check_sparse\n",
    "f = lambda w: softmax_loss_naive(w, X_dev, y_dev, 0.0)[0]\n",
    "grad_numerical = grad_check_sparse(f, W, grad, 10)\n",
    "\n",
    "# similar to SVM case, do another gradient check with regularization\n",
    "loss, grad = softmax_loss_naive(W, X_dev, y_dev, 5e1)\n",
    "f = lambda w: softmax_loss_naive(w, X_dev, y_dev, 5e1)[0]\n",
    "grad_numerical = grad_check_sparse(f, W, grad, 10)\n"
   ]
  },
  {
   "cell_type": "code",
   "execution_count": 6,
   "metadata": {
    "collapsed": false
   },
   "outputs": [
    {
     "name": "stdout",
     "output_type": "stream",
     "text": [
      "naive loss: 2.416390e+00 computed in 0.126805s\n",
      "vectorized loss: 2.416390e+00 computed in 0.006420s\n",
      "Loss difference: 0.000000\n",
      "Gradient difference: 0.000000\n",
      "Speedup: 19.751848\n"
     ]
    }
   ],
   "source": [
    "# Now that we have a naive implementation of the softmax loss function and its gradient,\n",
    "# implement a vectorized version in softmax_loss_vectorized.\n",
    "# The two versions should compute the same results, but the vectorized version should be\n",
    "# much faster.\n",
    "tic = time.time()\n",
    "loss_naive, grad_naive = softmax_loss_naive(W, X_dev, y_dev, 0.000005)\n",
    "toc = time.time()\n",
    "time_naive = toc - tic\n",
    "print('naive loss: %e computed in %fs' % (loss_naive, time_naive))\n",
    "\n",
    "from cs231n.classifiers.softmax import softmax_loss_vectorized\n",
    "tic = time.time()\n",
    "loss_vectorized, grad_vectorized = softmax_loss_vectorized(W, X_dev, y_dev, 0.000005)\n",
    "toc = time.time()\n",
    "time_vec = toc - tic\n",
    "print('vectorized loss: %e computed in %fs' % (loss_vectorized, time_vec))\n",
    "speedup = time_naive/time_vec\n",
    "# As we did for the SVM, we use the Frobenius norm to compare the two versions\n",
    "# of the gradient.\n",
    "grad_difference = np.linalg.norm(grad_naive - grad_vectorized, ord='fro')\n",
    "print('Loss difference: %f' % np.abs(loss_naive - loss_vectorized))\n",
    "print('Gradient difference: %f' % grad_difference)\n",
    "print('Speedup: %f' % speedup)"
   ]
  },
  {
   "cell_type": "code",
   "execution_count": 10,
   "metadata": {
    "collapsed": false
   },
   "outputs": [
    {
     "name": "stdout",
     "output_type": "stream",
     "text": [
      "training accuracy: 0.154082\n",
      "validation accuracy: 0.156000\n",
      "training accuracy: 0.115408\n",
      "validation accuracy: 0.128000\n",
      "training accuracy: 0.156653\n",
      "validation accuracy: 0.154000\n",
      "training accuracy: 0.157000\n",
      "validation accuracy: 0.143000\n",
      "training accuracy: 0.141837\n",
      "validation accuracy: 0.142000\n",
      "training accuracy: 0.142735\n",
      "validation accuracy: 0.140000\n",
      "training accuracy: 0.189286\n",
      "validation accuracy: 0.192000\n",
      "training accuracy: 0.195816\n",
      "validation accuracy: 0.211000\n",
      "training accuracy: 0.193041\n",
      "validation accuracy: 0.198000\n",
      "training accuracy: 0.206755\n",
      "validation accuracy: 0.217000\n",
      "training accuracy: 0.193837\n",
      "validation accuracy: 0.194000\n",
      "training accuracy: 0.227122\n",
      "validation accuracy: 0.259000\n",
      "training accuracy: 0.215980\n",
      "validation accuracy: 0.188000\n",
      "training accuracy: 0.224796\n",
      "validation accuracy: 0.224000\n",
      "training accuracy: 0.232061\n",
      "validation accuracy: 0.219000\n",
      "training accuracy: 0.251306\n",
      "validation accuracy: 0.257000\n",
      "training accuracy: 0.266959\n",
      "validation accuracy: 0.271000\n",
      "training accuracy: 0.279612\n",
      "validation accuracy: 0.294000\n",
      "training accuracy: 0.244796\n",
      "validation accuracy: 0.243000\n",
      "training accuracy: 0.259673\n",
      "validation accuracy: 0.259000\n",
      "training accuracy: 0.277388\n",
      "validation accuracy: 0.278000\n",
      "training accuracy: 0.282347\n",
      "validation accuracy: 0.285000\n",
      "training accuracy: 0.296082\n",
      "validation accuracy: 0.300000\n",
      "training accuracy: 0.310102\n",
      "validation accuracy: 0.331000\n",
      "training accuracy: 0.295531\n",
      "validation accuracy: 0.303000\n",
      "training accuracy: 0.310429\n",
      "validation accuracy: 0.334000\n",
      "training accuracy: 0.326020\n",
      "validation accuracy: 0.326000\n",
      "training accuracy: 0.328388\n",
      "validation accuracy: 0.347000\n",
      "training accuracy: 0.321898\n",
      "validation accuracy: 0.334000\n",
      "training accuracy: 0.328245\n",
      "validation accuracy: 0.344000\n",
      "training accuracy: 0.332143\n",
      "validation accuracy: 0.343000\n",
      "training accuracy: 0.341531\n",
      "validation accuracy: 0.348000\n",
      "training accuracy: 0.337204\n",
      "validation accuracy: 0.354000\n",
      "training accuracy: 0.336061\n",
      "validation accuracy: 0.357000\n",
      "training accuracy: 0.340408\n",
      "validation accuracy: 0.353000\n",
      "training accuracy: 0.330102\n",
      "validation accuracy: 0.345000\n",
      "training accuracy: 0.355735\n",
      "validation accuracy: 0.365000\n",
      "training accuracy: 0.346837\n",
      "validation accuracy: 0.361000\n",
      "training accuracy: 0.338367\n",
      "validation accuracy: 0.365000\n",
      "training accuracy: 0.341184\n",
      "validation accuracy: 0.347000\n",
      "training accuracy: 0.332367\n",
      "validation accuracy: 0.348000\n",
      "training accuracy: 0.322429\n",
      "validation accuracy: 0.352000\n",
      "training accuracy: 0.348571\n",
      "validation accuracy: 0.351000\n",
      "training accuracy: 0.336408\n",
      "validation accuracy: 0.356000\n",
      "training accuracy: 0.343816\n",
      "validation accuracy: 0.358000\n",
      "training accuracy: 0.339102\n",
      "validation accuracy: 0.343000\n",
      "training accuracy: 0.336980\n",
      "validation accuracy: 0.349000\n",
      "training accuracy: 0.321265\n",
      "validation accuracy: 0.331000\n",
      "lr 1.000000e-08 reg 1.000000e+04 train accuracy: 0.154082 val accuracy: 0.156000\n",
      "lr 1.000000e-08 reg 1.250000e+04 train accuracy: 0.115408 val accuracy: 0.128000\n",
      "lr 1.000000e-08 reg 1.500000e+04 train accuracy: 0.156653 val accuracy: 0.154000\n",
      "lr 1.000000e-08 reg 1.750000e+04 train accuracy: 0.157000 val accuracy: 0.143000\n",
      "lr 1.000000e-08 reg 2.000000e+04 train accuracy: 0.141837 val accuracy: 0.142000\n",
      "lr 1.000000e-08 reg 2.500000e+04 train accuracy: 0.142735 val accuracy: 0.140000\n",
      "lr 2.500000e-08 reg 1.000000e+04 train accuracy: 0.189286 val accuracy: 0.192000\n",
      "lr 2.500000e-08 reg 1.250000e+04 train accuracy: 0.195816 val accuracy: 0.211000\n",
      "lr 2.500000e-08 reg 1.500000e+04 train accuracy: 0.193041 val accuracy: 0.198000\n",
      "lr 2.500000e-08 reg 1.750000e+04 train accuracy: 0.206755 val accuracy: 0.217000\n",
      "lr 2.500000e-08 reg 2.000000e+04 train accuracy: 0.193837 val accuracy: 0.194000\n",
      "lr 2.500000e-08 reg 2.500000e+04 train accuracy: 0.227122 val accuracy: 0.259000\n",
      "lr 3.750000e-08 reg 1.000000e+04 train accuracy: 0.215980 val accuracy: 0.188000\n",
      "lr 3.750000e-08 reg 1.250000e+04 train accuracy: 0.224796 val accuracy: 0.224000\n",
      "lr 3.750000e-08 reg 1.500000e+04 train accuracy: 0.232061 val accuracy: 0.219000\n",
      "lr 3.750000e-08 reg 1.750000e+04 train accuracy: 0.251306 val accuracy: 0.257000\n",
      "lr 3.750000e-08 reg 2.000000e+04 train accuracy: 0.266959 val accuracy: 0.271000\n",
      "lr 3.750000e-08 reg 2.500000e+04 train accuracy: 0.279612 val accuracy: 0.294000\n",
      "lr 5.000000e-08 reg 1.000000e+04 train accuracy: 0.244796 val accuracy: 0.243000\n",
      "lr 5.000000e-08 reg 1.250000e+04 train accuracy: 0.259673 val accuracy: 0.259000\n",
      "lr 5.000000e-08 reg 1.500000e+04 train accuracy: 0.277388 val accuracy: 0.278000\n",
      "lr 5.000000e-08 reg 1.750000e+04 train accuracy: 0.282347 val accuracy: 0.285000\n",
      "lr 5.000000e-08 reg 2.000000e+04 train accuracy: 0.296082 val accuracy: 0.300000\n",
      "lr 5.000000e-08 reg 2.500000e+04 train accuracy: 0.310102 val accuracy: 0.331000\n",
      "lr 7.500000e-08 reg 1.000000e+04 train accuracy: 0.295531 val accuracy: 0.303000\n",
      "lr 7.500000e-08 reg 1.250000e+04 train accuracy: 0.310429 val accuracy: 0.334000\n",
      "lr 7.500000e-08 reg 1.500000e+04 train accuracy: 0.326020 val accuracy: 0.326000\n",
      "lr 7.500000e-08 reg 1.750000e+04 train accuracy: 0.328388 val accuracy: 0.347000\n",
      "lr 7.500000e-08 reg 2.000000e+04 train accuracy: 0.321898 val accuracy: 0.334000\n",
      "lr 7.500000e-08 reg 2.500000e+04 train accuracy: 0.328245 val accuracy: 0.344000\n",
      "lr 1.000000e-07 reg 1.000000e+04 train accuracy: 0.332143 val accuracy: 0.343000\n",
      "lr 1.000000e-07 reg 1.250000e+04 train accuracy: 0.341531 val accuracy: 0.348000\n",
      "lr 1.000000e-07 reg 1.500000e+04 train accuracy: 0.337204 val accuracy: 0.354000\n",
      "lr 1.000000e-07 reg 1.750000e+04 train accuracy: 0.336061 val accuracy: 0.357000\n",
      "lr 1.000000e-07 reg 2.000000e+04 train accuracy: 0.340408 val accuracy: 0.353000\n",
      "lr 1.000000e-07 reg 2.500000e+04 train accuracy: 0.330102 val accuracy: 0.345000\n",
      "lr 2.500000e-07 reg 1.000000e+04 train accuracy: 0.355735 val accuracy: 0.365000\n",
      "lr 2.500000e-07 reg 1.250000e+04 train accuracy: 0.346837 val accuracy: 0.361000\n",
      "lr 2.500000e-07 reg 1.500000e+04 train accuracy: 0.338367 val accuracy: 0.365000\n",
      "lr 2.500000e-07 reg 1.750000e+04 train accuracy: 0.341184 val accuracy: 0.347000\n",
      "lr 2.500000e-07 reg 2.000000e+04 train accuracy: 0.332367 val accuracy: 0.348000\n",
      "lr 2.500000e-07 reg 2.500000e+04 train accuracy: 0.322429 val accuracy: 0.352000\n",
      "lr 5.000000e-07 reg 1.000000e+04 train accuracy: 0.348571 val accuracy: 0.351000\n",
      "lr 5.000000e-07 reg 1.250000e+04 train accuracy: 0.336408 val accuracy: 0.356000\n",
      "lr 5.000000e-07 reg 1.500000e+04 train accuracy: 0.343816 val accuracy: 0.358000\n",
      "lr 5.000000e-07 reg 1.750000e+04 train accuracy: 0.339102 val accuracy: 0.343000\n",
      "lr 5.000000e-07 reg 2.000000e+04 train accuracy: 0.336980 val accuracy: 0.349000\n",
      "lr 5.000000e-07 reg 2.500000e+04 train accuracy: 0.321265 val accuracy: 0.331000\n",
      "best validation accuracy achieved during cross-validation: 0.365000\n"
     ]
    }
   ],
   "source": [
    "# Use the validation set to tune hyperparameters (regularization strength and\n",
    "# learning rate). You should experiment with different ranges for the learning\n",
    "# rates and regularization strengths; if you are careful you should be able to\n",
    "# get a classification accuracy of over 0.35 on the validation set.\n",
    "from cs231n.classifiers import Softmax\n",
    "\n",
    "results = {}\n",
    "best_val = -1\n",
    "best_softmax = None\n",
    "learning_rates = [1e-8, 2.5e-8, 3.75e-8, 5e-8, 7.5e-8, 1e-7, 2.5e-7, 5e-7]\n",
    "regularization_strengths = [1e4, 1.25e4, 1.5e4, 1.75e4, 2e4, 2.5e4] # [2.5e4, 5e4]\n",
    "\n",
    "################################################################################\n",
    "# TODO:                                                                        #\n",
    "# Use the validation set to set the learning rate and regularization strength. #\n",
    "# This should be identical to the validation that you did for the SVM; save    #\n",
    "# the best trained softmax classifer in best_softmax.                          #\n",
    "################################################################################\n",
    "num_iters = 1000\n",
    "for lr in learning_rates:\n",
    "    for reg in regularization_strengths:\n",
    "        softmax = Softmax()\n",
    "        softmax.train(X_train, y_train, learning_rate=lr, reg=reg,num_iters=num_iters, verbose=False)\n",
    "        y_train_pred = softmax.predict(X_train)\n",
    "        train_predict = np.mean(y_train == y_train_pred)\n",
    "        print('training accuracy: %f' % (np.mean(y_train == y_train_pred), ))\n",
    "        y_val_pred = softmax.predict(X_val)\n",
    "        val_predict = np.mean(y_val == y_val_pred)\n",
    "        print('validation accuracy: %f' % (np.mean(y_val == y_val_pred), ))\n",
    "        if val_predict > best_val:\n",
    "            best_val = val_predict\n",
    "            best_softmax = softmax\n",
    "        results[(lr,reg)] = [train_predict, val_predict]\n",
    "################################################################################\n",
    "#                              END OF YOUR CODE                                #\n",
    "################################################################################\n",
    "    \n",
    "# Print out results.\n",
    "for lr, reg in sorted(results):\n",
    "    train_accuracy, val_accuracy = results[(lr, reg)]\n",
    "    print('lr %e reg %e train accuracy: %f val accuracy: %f' % (\n",
    "                lr, reg, train_accuracy, val_accuracy))\n",
    "    \n",
    "print('best validation accuracy achieved during cross-validation: %f' % best_val)"
   ]
  },
  {
   "cell_type": "code",
   "execution_count": 11,
   "metadata": {
    "collapsed": false
   },
   "outputs": [
    {
     "name": "stdout",
     "output_type": "stream",
     "text": [
      "softmax on raw pixels final test set accuracy: 0.364000\n"
     ]
    }
   ],
   "source": [
    "# evaluate on test set\n",
    "# Evaluate the best softmax on test set\n",
    "y_test_pred = best_softmax.predict(X_test)\n",
    "test_accuracy = np.mean(y_test == y_test_pred)\n",
    "print('softmax on raw pixels final test set accuracy: %f' % (test_accuracy, ))"
   ]
  },
  {
   "cell_type": "code",
   "execution_count": 12,
   "metadata": {
    "collapsed": false
   },
   "outputs": [
    {
     "data": {
      "image/png": "[encoded data removed]",
      "text/plain": [
       "<matplotlib.figure.Figure at 0x11557ce50>"
      ]
     },
     "metadata": {},
     "output_type": "display_data"
    }
   ],
   "source": [
    "# Visualize the learned weights for each class\n",
    "w = best_softmax.W[:-1,:] # strip out the bias\n",
    "w = w.reshape(32, 32, 3, 10)\n",
    "\n",
    "w_min, w_max = np.min(w), np.max(w)\n",
    "\n",
    "classes = ['plane', 'car', 'bird', 'cat', 'deer', 'dog', 'frog', 'horse', 'ship', 'truck']\n",
    "for i in range(10):\n",
    "    plt.subplot(2, 5, i + 1)\n",
    "    \n",
    "    # Rescale the weights to be between 0 and 255\n",
    "    wimg = 255.0 * (w[:, :, :, i].squeeze() - w_min) / (w_max - w_min)\n",
    "    plt.imshow(wimg.astype('uint8'))\n",
    "    plt.axis('off')\n",
    "    plt.title(classes[i])"
   ]
  },
  {
   "cell_type": "code",
   "execution_count": null,
   "metadata": {
    "collapsed": true
   },
   "outputs": [],
   "source": []
  }
 ],
 "metadata": {
  "kernelspec": {
   "display_name": "Python 2",
   "language": "python",
   "name": "python2"
  },
  "language_info": {
   "codemirror_mode": {
    "name": "ipython",
    "version": 2
   },
   "file_extension": ".py",
   "mimetype": "text/x-python",
   "name": "python",
   "nbconvert_exporter": "python",
   "pygments_lexer": "ipython2",
   "version": "2.7.13"
  }
 },
 "nbformat": 4,
 "nbformat_minor": 0
}
